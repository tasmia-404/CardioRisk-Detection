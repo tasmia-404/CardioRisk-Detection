{
 "cells": [
  {
   "cell_type": "code",
   "execution_count": 1,
   "metadata": {},
   "outputs": [],
   "source": [
    "import pandas as pd\n",
    "from sklearn.model_selection import train_test_split\n",
    "\n",
    "# Load the dataset\n",
    "data = pd.read_csv(\"../heart.csv\")\n",
    "\n",
    "# Features and target variable\n",
    "X = data.drop(columns=['HeartDisease'])  # Remove the target column from feature"
   ]
  },
  {
   "cell_type": "code",
   "execution_count": 2,
   "metadata": {},
   "outputs": [],
   "source": [
    "import flask"
   ]
  },
  {
   "cell_type": "code",
   "execution_count": 1,
   "metadata": {},
   "outputs": [
    {
     "name": "stdout",
     "output_type": "stream",
     "text": [
      "Requirement already satisfied: openai in /opt/anaconda3/lib/python3.12/site-packages (1.65.4)\n",
      "Requirement already satisfied: anyio<5,>=3.5.0 in /opt/anaconda3/lib/python3.12/site-packages (from openai) (4.2.0)\n",
      "Requirement already satisfied: distro<2,>=1.7.0 in /opt/anaconda3/lib/python3.12/site-packages (from openai) (1.9.0)\n",
      "Requirement already satisfied: httpx<1,>=0.23.0 in /opt/anaconda3/lib/python3.12/site-packages (from openai) (0.27.0)\n",
      "Requirement already satisfied: jiter<1,>=0.4.0 in /opt/anaconda3/lib/python3.12/site-packages (from openai) (0.8.2)\n",
      "Requirement already satisfied: pydantic<3,>=1.9.0 in /opt/anaconda3/lib/python3.12/site-packages (from openai) (2.8.2)\n",
      "Requirement already satisfied: sniffio in /opt/anaconda3/lib/python3.12/site-packages (from openai) (1.3.0)\n",
      "Requirement already satisfied: tqdm>4 in /opt/anaconda3/lib/python3.12/site-packages (from openai) (4.66.5)\n",
      "Requirement already satisfied: typing-extensions<5,>=4.11 in /opt/anaconda3/lib/python3.12/site-packages (from openai) (4.11.0)\n",
      "Requirement already satisfied: idna>=2.8 in /opt/anaconda3/lib/python3.12/site-packages (from anyio<5,>=3.5.0->openai) (3.7)\n",
      "Requirement already satisfied: certifi in /opt/anaconda3/lib/python3.12/site-packages (from httpx<1,>=0.23.0->openai) (2025.1.31)\n",
      "Requirement already satisfied: httpcore==1.* in /opt/anaconda3/lib/python3.12/site-packages (from httpx<1,>=0.23.0->openai) (1.0.2)\n",
      "Requirement already satisfied: h11<0.15,>=0.13 in /opt/anaconda3/lib/python3.12/site-packages (from httpcore==1.*->httpx<1,>=0.23.0->openai) (0.14.0)\n",
      "Requirement already satisfied: annotated-types>=0.4.0 in /opt/anaconda3/lib/python3.12/site-packages (from pydantic<3,>=1.9.0->openai) (0.6.0)\n",
      "Requirement already satisfied: pydantic-core==2.20.1 in /opt/anaconda3/lib/python3.12/site-packages (from pydantic<3,>=1.9.0->openai) (2.20.1)\n",
      "Collecting dotenv\n",
      "  Downloading dotenv-0.9.9-py2.py3-none-any.whl.metadata (279 bytes)\n",
      "Requirement already satisfied: python-dotenv in /opt/anaconda3/lib/python3.12/site-packages (from dotenv) (0.21.0)\n",
      "Downloading dotenv-0.9.9-py2.py3-none-any.whl (1.9 kB)\n",
      "Installing collected packages: dotenv\n",
      "Successfully installed dotenv-0.9.9\n"
     ]
    }
   ],
   "source": [
    "!pip install openai\n",
    "!pip install dotenv"
   ]
  },
  {
   "cell_type": "code",
   "execution_count": 1,
   "metadata": {},
   "outputs": [
    {
     "name": "stdout",
     "output_type": "stream",
     "text": [
      "API_KEY: openai.OpenAI(api_key=\"")\n"
     ]
    }
   ],
   "source": [
    "import os\n",
    "from dotenv import load_dotenv\n",
    "\n",
    "# Load environment variables from .env file\n",
    "load_dotenv()\n",
    "\n",
    "# Access the variables\n",
    "KEY=os.getenv(\"OPENAI_KEY\")\n",
    "\n",
    "# Print (for debugging, avoid printing sensitive data in production)\n",
    "print(f\"API_KEY: {KEY}\")"
   ]
  },
  {
   "cell_type": "code",
   "execution_count": 1,
   "metadata": {},
   "outputs": [
    {
     "name": "stdout",
     "output_type": "stream",
     "text": [
      " * Serving Flask app '__main__'\n",
      " * Debug mode: off\n"
     ]
    },
    {
     "name": "stderr",
     "output_type": "stream",
     "text": [
      "WARNING: This is a development server. Do not use it in a production deployment. Use a production WSGI server instead.\n",
      " * Running on all addresses (0.0.0.0)\n",
      " * Running on http://127.0.0.1:8083\n",
      " * Running on http://192.168.1.151:8083\n",
      "Press CTRL+C to quit\n",
      "127.0.0.1 - - [10/Mar/2025 20:27:44] \"GET / HTTP/1.1\" 200 -\n",
      "127.0.0.1 - - [10/Mar/2025 20:27:44] \"GET /static/heart.jpeg HTTP/1.1\" 304 -\n",
      "127.0.0.1 - - [10/Mar/2025 20:29:37] \"POST /chat HTTP/1.1\" 200 -\n",
      "127.0.0.1 - - [10/Mar/2025 20:29:41] \"POST /predict HTTP/1.1\" 200 -\n",
      "127.0.0.1 - - [10/Mar/2025 20:29:42] \"POST /predict HTTP/1.1\" 200 -\n"
     ]
    }
   ],
   "source": [
    "from flask import Flask, request, jsonify, render_template\n",
    "import pickle\n",
    "import pandas as pd\n",
    "import openai\n",
    "from dotenv import load_dotenv\n",
    "load_dotenv()\n",
    "import os\n",
    "# Initialize Flask App\n",
    "app = Flask(__name__)\n",
    "\n",
    "# Load the trained model and preprocessor\n",
    "with open(\"../heart_model.pkl\", \"rb\") as f:\n",
    "    model = pickle.load(f)\n",
    "\n",
    "with open(\"../preprocessor.pkl\", \"rb\") as f:\n",
    "    preprocessor = pickle.load(f)\n",
    "\n",
    "# to implement api\n",
    "KEY=os.getenv(\"OPENAI_KEY\")\n",
    "openai_client= openai.OpenAI(api_key=KEY) \n",
    "\n",
    "@app.route(\"/\")\n",
    "def home():\n",
    "    return render_template(\"index.html\")\n",
    "\n",
    "@app.route('/doctors')\n",
    "def doctors():\n",
    "    return render_template('doctors.html')\n",
    "\n",
    "# Prediction Route\n",
    "@app.route('/predict', methods=['POST'])\n",
    "def predict():\n",
    "    try:\n",
    "        data = request.json\n",
    "        raw_features = data[\"features\"]\n",
    "\n",
    "        # Convert numerical values from string to proper types\n",
    "        processed_features = [\n",
    "            int(raw_features[0]),  # Age\n",
    "            raw_features[1],        # Gender (string, remains unchanged)\n",
    "            raw_features[2],        # Chest Pain Type (string, remains unchanged)\n",
    "            int(raw_features[3]),  # Resting BP\n",
    "            int(raw_features[4]),  # Cholesterol\n",
    "            int(raw_features[5]),  # Fasting BS (0 or 1)\n",
    "            raw_features[6],        # Resting ECG (string, remains unchanged)\n",
    "            int(raw_features[7]),  # Max HR\n",
    "            raw_features[8],        # Exercise Angina (string, remains unchanged)\n",
    "            float(raw_features[9]), # Oldpeak (decimal value)\n",
    "            raw_features[10]        # ST Slope (string, remains unchanged)\n",
    "        ]\n",
    "\n",
    "        # Convert to DataFrame for transformation\n",
    "        features_df = pd.DataFrame([processed_features], columns=preprocessor.feature_names_in_)\n",
    "\n",
    "        # Transform using the preprocessor\n",
    "        transformed_features = preprocessor.transform(features_df)\n",
    "\n",
    "        # Make prediction\n",
    "        prediction = model.predict(transformed_features)[0]\n",
    "        probability = model.predict_proba(transformed_features)[0][1]\n",
    "\n",
    "        return jsonify({\n",
    "            \"message\": \"Appointment is booked for you\" if int(prediction) else \"You don't need a doctor\",\n",
    "            \"prediction\": int(prediction),\n",
    "            \"probability\": float(probability)\n",
    "        })\n",
    "    except Exception as e:\n",
    "        return jsonify({\"error\": str(e)})\n",
    "\n",
    "# Chatbot Route (Cardiac-focused Assistant)\n",
    "@app.route(\"/chat\", methods=[\"POST\"])\n",
    "def chat():\n",
    "    try:\n",
    "        user_input = request.json[\"message\"]\n",
    "\n",
    "        # Restrict chatbot to only discuss cardiac health\n",
    "        response = openai_client.chat.completions.create(\n",
    "            model=\"gpt-3.5-turbo\",\n",
    "            messages=[\n",
    "                {\"role\": \"system\", \"content\": \"You are a health assistant specializing in cardiac conditions. You only provide advice on heart diseases, symptoms, risk factors, prevention, and treatment. If a user asks something unrelated, politely steer them back to heart health topics.\"},\n",
    "                {\"role\": \"user\", \"content\": user_input}\n",
    "            ]\n",
    "        )\n",
    "\n",
    "        return jsonify({\"response\": response.choices[0].message.content})\n",
    "    except Exception as e:\n",
    "        return jsonify({\"response\": \"Error: \" + str(e)})\n",
    "\n",
    "if __name__ == \"__main__\":\n",
    "    app.run(host=\"0.0.0.0\", port=8083)\n"
   ]
  }
 ],
 "metadata": {
  "kernelspec": {
   "display_name": "base",
   "language": "python",
   "name": "python3"
  },
  "language_info": {
   "codemirror_mode": {
    "name": "ipython",
    "version": 3
   },
   "file_extension": ".py",
   "mimetype": "text/x-python",
   "name": "python",
   "nbconvert_exporter": "python",
   "pygments_lexer": "ipython3",
   "version": "3.12.7"
  }
 },
 "nbformat": 4,
 "nbformat_minor": 2
}
